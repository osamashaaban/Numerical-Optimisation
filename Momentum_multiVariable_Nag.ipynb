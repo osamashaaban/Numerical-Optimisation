{
 "cells": [
  {
   "cell_type": "code",
   "execution_count": 249,
   "metadata": {},
   "outputs": [],
   "source": [
    "import pandas as pd\n",
    "import numpy as np\n",
    "from matplotlib import pyplot as plt\n",
    "import random\n",
    "%matplotlib inline"
   ]
  },
  {
   "cell_type": "code",
   "execution_count": 250,
   "metadata": {},
   "outputs": [
    {
     "data": {
      "text/html": [
       "<div>\n",
       "<style scoped>\n",
       "    .dataframe tbody tr th:only-of-type {\n",
       "        vertical-align: middle;\n",
       "    }\n",
       "\n",
       "    .dataframe tbody tr th {\n",
       "        vertical-align: top;\n",
       "    }\n",
       "\n",
       "    .dataframe thead th {\n",
       "        text-align: right;\n",
       "    }\n",
       "</style>\n",
       "<table border=\"1\" class=\"dataframe\">\n",
       "  <thead>\n",
       "    <tr style=\"text-align: right;\">\n",
       "      <th></th>\n",
       "      <th>area</th>\n",
       "      <th>bedrooms</th>\n",
       "      <th>price</th>\n",
       "    </tr>\n",
       "  </thead>\n",
       "  <tbody>\n",
       "    <tr>\n",
       "      <th>0</th>\n",
       "      <td>1056</td>\n",
       "      <td>2</td>\n",
       "      <td>39.07</td>\n",
       "    </tr>\n",
       "    <tr>\n",
       "      <th>13</th>\n",
       "      <td>1100</td>\n",
       "      <td>2</td>\n",
       "      <td>40.00</td>\n",
       "    </tr>\n",
       "    <tr>\n",
       "      <th>12</th>\n",
       "      <td>1000</td>\n",
       "      <td>2</td>\n",
       "      <td>38.00</td>\n",
       "    </tr>\n",
       "    <tr>\n",
       "      <th>9</th>\n",
       "      <td>3700</td>\n",
       "      <td>5</td>\n",
       "      <td>167.00</td>\n",
       "    </tr>\n",
       "    <tr>\n",
       "      <th>15</th>\n",
       "      <td>1175</td>\n",
       "      <td>2</td>\n",
       "      <td>42.00</td>\n",
       "    </tr>\n",
       "  </tbody>\n",
       "</table>\n",
       "</div>"
      ],
      "text/plain": [
       "    area  bedrooms   price\n",
       "0   1056         2   39.07\n",
       "13  1100         2   40.00\n",
       "12  1000         2   38.00\n",
       "9   3700         5  167.00\n",
       "15  1175         2   42.00"
      ]
     },
     "execution_count": 250,
     "metadata": {},
     "output_type": "execute_result"
    }
   ],
   "source": [
    "df = pd.read_csv(\"homeprices_banglore.csv\")\n",
    "df.sample(5)"
   ]
  },
  {
   "cell_type": "code",
   "execution_count": 4,
   "metadata": {},
   "outputs": [
    {
     "data": {
      "text/plain": [
       "(20, 1)"
      ]
     },
     "execution_count": 4,
     "metadata": {},
     "output_type": "execute_result"
    }
   ],
   "source": [
    "df[\"price\"].values.reshape(df.shape[0],1).shape\n"
   ]
  },
  {
   "cell_type": "code",
   "execution_count": 5,
   "metadata": {},
   "outputs": [
    {
     "name": "stdout",
     "output_type": "stream",
     "text": [
      "Scaled X = \n",
      " [[0.08827586 0.25      ]\n",
      " [0.62068966 0.75      ]\n",
      " [0.22068966 0.5       ]\n",
      " [0.24862069 0.5       ]\n",
      " [0.13793103 0.25      ]\n",
      " [0.12758621 0.25      ]\n",
      " [0.6662069  0.75      ]\n",
      " [0.86206897 0.75      ]\n",
      " [0.17586207 0.5       ]\n",
      " [1.         1.        ]\n",
      " [0.34482759 0.5       ]\n",
      " [0.68448276 0.75      ]\n",
      " [0.06896552 0.25      ]\n",
      " [0.10344828 0.25      ]\n",
      " [0.5        0.5       ]\n",
      " [0.12931034 0.25      ]\n",
      " [0.13103448 0.5       ]\n",
      " [0.25517241 0.5       ]\n",
      " [0.67931034 0.5       ]\n",
      " [0.         0.        ]]\n",
      "Scaled Y = \n",
      " [[0.05237037]\n",
      " [0.65185185]\n",
      " [0.22222222]\n",
      " [0.31851852]\n",
      " [0.14074074]\n",
      " [0.04444444]\n",
      " [0.76296296]\n",
      " [0.91111111]\n",
      " [0.13333333]\n",
      " [1.        ]\n",
      " [0.37037037]\n",
      " [0.8       ]\n",
      " [0.04444444]\n",
      " [0.05925926]\n",
      " [0.51111111]\n",
      " [0.07407407]\n",
      " [0.11851852]\n",
      " [0.20740741]\n",
      " [0.51851852]\n",
      " [0.        ]]\n"
     ]
    }
   ],
   "source": [
    "from sklearn import preprocessing\n",
    "sx = preprocessing.MinMaxScaler()\n",
    "sy = preprocessing.MinMaxScaler()\n",
    "\n",
    "x_scaled = sx.fit_transform(df.drop(\"price\",axis=1))\n",
    "y_scaled = sy.fit_transform(df[\"price\"].values.reshape(df.shape[0],1))\n",
    "\n",
    "print(\"Scaled X = \\n\",x_scaled)\n",
    "print(\"Scaled Y = \\n\",y_scaled)"
   ]
  },
  {
   "cell_type": "code",
   "execution_count": 6,
   "metadata": {},
   "outputs": [
    {
     "data": {
      "text/plain": [
       "20"
      ]
     },
     "execution_count": 6,
     "metadata": {},
     "output_type": "execute_result"
    }
   ],
   "source": [
    "len(y_scaled)"
   ]
  },
  {
   "cell_type": "markdown",
   "metadata": {},
   "source": [
    "#### We should convert target column (i.e. price) into one dimensional array. It has become 2D due to scaling that we did above but now we should change to 1D\n"
   ]
  },
  {
   "cell_type": "code",
   "execution_count": 7,
   "metadata": {},
   "outputs": [
    {
     "data": {
      "text/plain": [
       "(20,)"
      ]
     },
     "execution_count": 7,
     "metadata": {},
     "output_type": "execute_result"
    }
   ],
   "source": [
    "y_scaled = y_scaled.ravel()\n",
    "y_scaled.shape"
   ]
  },
  {
   "cell_type": "code",
   "execution_count": 8,
   "metadata": {},
   "outputs": [
    {
     "data": {
      "text/plain": [
       "array([[0.08827586, 0.62068966, 0.22068966, 0.24862069, 0.13793103,\n",
       "        0.12758621, 0.6662069 , 0.86206897, 0.17586207, 1.        ,\n",
       "        0.34482759, 0.68448276, 0.06896552, 0.10344828, 0.5       ,\n",
       "        0.12931034, 0.13103448, 0.25517241, 0.67931034, 0.        ],\n",
       "       [0.25      , 0.75      , 0.5       , 0.5       , 0.25      ,\n",
       "        0.25      , 0.75      , 0.75      , 0.5       , 1.        ,\n",
       "        0.5       , 0.75      , 0.25      , 0.25      , 0.5       ,\n",
       "        0.25      , 0.5       , 0.5       , 0.5       , 0.        ]])"
      ]
     },
     "execution_count": 8,
     "metadata": {},
     "output_type": "execute_result"
    }
   ],
   "source": [
    "x_scaled.T"
   ]
  },
  {
   "cell_type": "code",
   "execution_count": 151,
   "metadata": {},
   "outputs": [],
   "source": [
    "def momentum_gradient_descent(x, y_true, epochs, learning_rate = 0.01 , gama = 0.6):\n",
    "    num_features = x.shape[1]\n",
    "    thetas = np.zeros(shape = (num_features))\n",
    "    vt = np.zeros(shape= (num_features))\n",
    "    Nobservations = x.shape[0]   # num of rows in X\n",
    "    cost_list = []\n",
    "    epochs_list = []\n",
    "    theta_1 = []\n",
    "    theta_2 = []\n",
    "    hypothesis = []\n",
    "    for i in range(epochs):\n",
    "        \n",
    "        # Calculate Y predected\n",
    "        y_predict = np.dot( thetas , x.T )\n",
    "        # Getting the gradient with current thetas values\n",
    "        thetas_grad = (2/Nobservations)*(x.T.dot(y_predict - y_true))\n",
    "        \n",
    "        vt = (gama * vt) + ((1 - gama) * thetas_grad)\n",
    "        # Updating thetas values\n",
    "        thetas = thetas - (learning_rate * vt)\n",
    "        # Calculate the cost value \n",
    "        cost = np.mean(np.square(y_predict - y_true))\n",
    "        \n",
    "        if i%10 == 0 :\n",
    "            cost_list.append(cost)\n",
    "            epochs_list.append(i)\n",
    "            theta_1.append(thetas[0])\n",
    "            theta_2.append(thetas[1])\n",
    "            \n",
    "    hypothesis.append(y_predict)\n",
    "    \n",
    "    return thetas, theta_1, theta_2, cost, cost_list, epochs_list, hypothesis\n",
    "        \n",
    "        \n"
   ]
  },
  {
   "cell_type": "code",
   "execution_count": 182,
   "metadata": {},
   "outputs": [
    {
     "data": {
      "text/plain": [
       "(array([0.5184358 , 0.42431068]), 0.009853637579590917)"
      ]
     },
     "execution_count": 182,
     "metadata": {},
     "output_type": "execute_result"
    }
   ],
   "source": [
    "the_ta, the_ta_1, the_ta_2, cost, cost_list, epoch_list, Hypoth_esis= momentum_gradient_descent(x_scaled,y_scaled,300)\n",
    "the_ta, cost\n"
   ]
  },
  {
   "cell_type": "code",
   "execution_count": 183,
   "metadata": {},
   "outputs": [
    {
     "data": {
      "text/plain": [
       "[array([0.15186911, 0.63999141, 0.32660757, 0.34107958, 0.17759712,\n",
       "        0.17223712, 0.66357542, 0.76505812, 0.3033809 , 0.94265525,\n",
       "        0.39092759, 0.67304476, 0.14186378, 0.15973045, 0.47132762,\n",
       "        0.17313046, 0.28015422, 0.34447424, 0.56423432, 0.        ])]"
      ]
     },
     "execution_count": 183,
     "metadata": {},
     "output_type": "execute_result"
    }
   ],
   "source": [
    "Hypoth_esis"
   ]
  },
  {
   "cell_type": "code",
   "execution_count": 184,
   "metadata": {},
   "outputs": [
    {
     "data": {
      "text/plain": [
       "[<matplotlib.lines.Line2D at 0x235773e06a0>]"
      ]
     },
     "execution_count": 184,
     "metadata": {},
     "output_type": "execute_result"
    },
    {
     "data": {
      "image/png": "[encoded data removed]",
      "text/plain": [
       "<Figure size 432x288 with 1 Axes>"
      ]
     },
     "metadata": {
      "needs_background": "light"
     },
     "output_type": "display_data"
    }
   ],
   "source": [
    "plt.xlabel(\"epoch\")\n",
    "plt.ylabel(\"cost\")\n",
    "plt.plot(epoch_list,cost_list)"
   ]
  },
  {
   "cell_type": "code",
   "execution_count": 185,
   "metadata": {},
   "outputs": [
    {
     "data": {
      "text/plain": [
       "[<matplotlib.lines.Line2D at 0x2357742ceb0>]"
      ]
     },
     "execution_count": 185,
     "metadata": {},
     "output_type": "execute_result"
    },
    {
     "data": {
      "image/png": "[encoded data removed]",
      "text/plain": [
       "<Figure size 432x288 with 1 Axes>"
      ]
     },
     "metadata": {
      "needs_background": "light"
     },
     "output_type": "display_data"
    }
   ],
   "source": [
    "\n",
    "plt.xlabel(\"theta 1\")\n",
    "plt.ylabel(\"cost\")\n",
    "plt.plot(the_ta_1,cost_list)"
   ]
  },
  {
   "cell_type": "code",
   "execution_count": 186,
   "metadata": {},
   "outputs": [
    {
     "data": {
      "text/plain": [
       "[<matplotlib.lines.Line2D at 0x2357747eee0>]"
      ]
     },
     "execution_count": 186,
     "metadata": {},
     "output_type": "execute_result"
    },
    {
     "data": {
      "image/png": "[encoded data removed]",
      "text/plain": [
       "<Figure size 432x288 with 1 Axes>"
      ]
     },
     "metadata": {
      "needs_background": "light"
     },
     "output_type": "display_data"
    }
   ],
   "source": [
    "\n",
    "plt.xlabel(\"theta 2\")\n",
    "plt.ylabel(\"cost\")\n",
    "plt.plot(the_ta_2,cost_list)"
   ]
  },
  {
   "cell_type": "code",
   "execution_count": 187,
   "metadata": {},
   "outputs": [],
   "source": [
    "def predict(area, bedroom, theta):\n",
    "    \n",
    "    scaled_x = sx.transform([[area,bedroom]])[0]\n",
    "    scaled_price = theta[0]* scaled_x[0] + theta[1]* scaled_x[1]\n",
    "    \n",
    "    return sy.inverse_transform([[scaled_price]])\n",
    "    "
   ]
  },
  {
   "cell_type": "code",
   "execution_count": 188,
   "metadata": {},
   "outputs": [
    {
     "data": {
      "text/plain": [
       "array([[118.40280113]])"
      ]
     },
     "execution_count": 188,
     "metadata": {},
     "output_type": "execute_result"
    }
   ],
   "source": [
    "predict(2600,4,the_ta)"
   ]
  },
  {
   "cell_type": "markdown",
   "metadata": {},
   "source": [
    "## Getting prediction values using Hypothesis values "
   ]
  },
  {
   "cell_type": "code",
   "execution_count": 189,
   "metadata": {},
   "outputs": [],
   "source": [
    "y_hat = []\n",
    "for i in Hypoth_esis:\n",
    "    y_hat.append(sy.inverse_transform([i]))\n",
    "    "
   ]
  },
  {
   "cell_type": "code",
   "execution_count": 190,
   "metadata": {},
   "outputs": [
    {
     "data": {
      "text/plain": [
       "array([ 52.50233044, 118.39884051,  76.09202202,  78.04574274,\n",
       "        55.97561172,  55.25201146, 121.58268169, 135.28284674,\n",
       "        72.95642087, 159.25845846,  84.77522523, 122.86104216,\n",
       "        51.15160994,  53.56361083,  95.62922923,  55.3726115 ,\n",
       "        69.82081971,  78.50402291, 108.17163386,  32.        ])"
      ]
     },
     "execution_count": 190,
     "metadata": {},
     "output_type": "execute_result"
    }
   ],
   "source": [
    "# Check the 1D-dimention y_hat\n",
    "\n",
    "y_hat[0][0]"
   ]
  },
  {
   "cell_type": "code",
   "execution_count": 191,
   "metadata": {},
   "outputs": [
    {
     "data": {
      "text/plain": [
       "0.9012929535058143"
      ]
     },
     "execution_count": 191,
     "metadata": {},
     "output_type": "execute_result"
    }
   ],
   "source": [
    "from sklearn.metrics import r2_score\n",
    "\n",
    "r2_score(df.price, y_hat[0][0]) "
   ]
  },
  {
   "cell_type": "markdown",
   "metadata": {},
   "source": [
    "# -> Momentum with NAG "
   ]
  },
  {
   "cell_type": "code",
   "execution_count": 251,
   "metadata": {},
   "outputs": [],
   "source": [
    "def momentum_NAG_gradient_descent(x, y_true, epochs, learning_rate = 0.03 , gama = 0.6):\n",
    "    num_features = x.shape[1]\n",
    "    thetas = np.zeros(shape = (num_features))\n",
    "    vt = np.zeros(shape= (num_features))\n",
    "    Nobservations = x.shape[0]   # num of rows in X\n",
    "    cost_list = []\n",
    "    epochs_list = []\n",
    "    theta_1 = []\n",
    "    theta_2 = []\n",
    "    hypothesis = []\n",
    "    for i in range(epochs):\n",
    "        \n",
    "        if i > 2 :\n",
    "            if abs(cost_list[-2] - cost_list[-1]) <= 0.001 :\n",
    "                break\n",
    "            \n",
    "        # Calculate Theta temp\n",
    "        theta_tmp = thetas - (gama * vt)\n",
    "        # Calculate Y predected\n",
    "        y_predict = np.dot( theta_tmp , x.T )\n",
    "        # Getting the gradient with current thetas values\n",
    "        thetas_tmp_grad = (2/Nobservations)*(x.T.dot(y_predict - y_true))\n",
    "        # Updating thetas values\n",
    "        thetas = theta_tmp - (learning_rate * thetas_tmp_grad)\n",
    "        # Calculate the Vt value \n",
    "        vt = (gama * vt) + ( learning_rate * thetas_tmp_grad)\n",
    "        # Calculate the Cost value \n",
    "        cost = np.mean(np.square(y_predict - y_true))\n",
    "        \n",
    "        cost_list.append(cost)\n",
    "        epochs_list.append(i)\n",
    "        theta_1.append(thetas[0])\n",
    "        theta_2.append(thetas[1])\n",
    "        \n",
    "        \n",
    "            \n",
    "    hypothesis.append(y_predict)\n",
    "    \n",
    "    return thetas, theta_1, theta_2, cost, cost_list, epochs_list, hypothesis\n",
    "        \n",
    "        \n"
   ]
  },
  {
   "cell_type": "code",
   "execution_count": 252,
   "metadata": {},
   "outputs": [
    {
     "data": {
      "text/plain": [
       "(array([0.39084971, 0.40071052]), 0.016752559301575775)"
      ]
     },
     "execution_count": 252,
     "metadata": {},
     "output_type": "execute_result"
    }
   ],
   "source": [
    "NAG_the_ta, NAG_the_ta_1, NAG_the_ta_2, NAG_cost, NAG_cost_list, NAG_epoch_list, NAG_Hypothesis= momentum_NAG_gradient_descent(x_scaled,y_scaled,200)\n",
    "NAG_the_ta, NAG_cost\n"
   ]
  },
  {
   "cell_type": "code",
   "execution_count": 253,
   "metadata": {},
   "outputs": [
    {
     "data": {
      "text/plain": [
       "[array([0.13399265, 0.5402029 , 0.28512949, 0.29597854, 0.15327986,\n",
       "        0.14926169, 0.55788284, 0.63396013, 0.26771743, 0.78723999,\n",
       "        0.33334749, 0.5649816 , 0.12649208, 0.13988597, 0.39361999,\n",
       "        0.14993138, 0.25030538, 0.29852338, 0.46326822, 0.        ])]"
      ]
     },
     "execution_count": 253,
     "metadata": {},
     "output_type": "execute_result"
    }
   ],
   "source": [
    "NAG_Hypothesis\n"
   ]
  },
  {
   "cell_type": "code",
   "execution_count": 254,
   "metadata": {},
   "outputs": [
    {
     "data": {
      "text/plain": [
       "[<matplotlib.lines.Line2D at 0x235789ccc10>]"
      ]
     },
     "execution_count": 254,
     "metadata": {},
     "output_type": "execute_result"
    },
    {
     "data": {
      "image/png": "[encoded data removed]",
      "text/plain": [
       "<Figure size 432x288 with 1 Axes>"
      ]
     },
     "metadata": {
      "needs_background": "light"
     },
     "output_type": "display_data"
    }
   ],
   "source": [
    "\n",
    "plt.xlabel(\"epoch\")\n",
    "plt.ylabel(\"cost\")\n",
    "plt.plot(NAG_epoch_list,NAG_cost_list)\n"
   ]
  },
  {
   "cell_type": "code",
   "execution_count": 255,
   "metadata": {},
   "outputs": [
    {
     "data": {
      "text/plain": [
       "[<matplotlib.lines.Line2D at 0x23578a2e340>]"
      ]
     },
     "execution_count": 255,
     "metadata": {},
     "output_type": "execute_result"
    },
    {
     "data": {
      "image/png": "[encoded data removed]",
      "text/plain": [
       "<Figure size 432x288 with 1 Axes>"
      ]
     },
     "metadata": {
      "needs_background": "light"
     },
     "output_type": "display_data"
    }
   ],
   "source": [
    "\n",
    "plt.xlabel(\"theta 1\")\n",
    "plt.ylabel(\"cost\")\n",
    "plt.plot(NAG_the_ta_1,NAG_cost_list)\n"
   ]
  },
  {
   "cell_type": "code",
   "execution_count": 256,
   "metadata": {},
   "outputs": [
    {
     "data": {
      "text/plain": [
       "[<matplotlib.lines.Line2D at 0x23578a89b80>]"
      ]
     },
     "execution_count": 256,
     "metadata": {},
     "output_type": "execute_result"
    },
    {
     "data": {
      "image/png": "[encoded data removed]",
      "text/plain": [
       "<Figure size 432x288 with 1 Axes>"
      ]
     },
     "metadata": {
      "needs_background": "light"
     },
     "output_type": "display_data"
    }
   ],
   "source": [
    "\n",
    "plt.xlabel(\"theta 2\")\n",
    "plt.ylabel(\"cost\")\n",
    "plt.plot(NAG_the_ta_2,NAG_cost_list)"
   ]
  },
  {
   "cell_type": "code",
   "execution_count": 257,
   "metadata": {},
   "outputs": [],
   "source": [
    "def predict(area, bedroom, theta):\n",
    "    \n",
    "    scaled_x = sx.transform([[area,bedroom]])[0]\n",
    "    scaled_price = theta[0]* scaled_x[0] + theta[1]* scaled_x[1]\n",
    "    \n",
    "    return sy.inverse_transform([[scaled_price]])\n",
    "    "
   ]
  },
  {
   "cell_type": "code",
   "execution_count": 258,
   "metadata": {},
   "outputs": [
    {
     "data": {
      "text/plain": [
       "array([[52.80187132]])"
      ]
     },
     "execution_count": 258,
     "metadata": {},
     "output_type": "execute_result"
    }
   ],
   "source": [
    "predict(1200,2,NAG_the_ta)"
   ]
  },
  {
   "cell_type": "markdown",
   "metadata": {},
   "source": [
    "## Getting prediction values using Hypothesis values "
   ]
  },
  {
   "cell_type": "code",
   "execution_count": 259,
   "metadata": {},
   "outputs": [],
   "source": [
    "y_hat_NAG = []\n",
    "for i in Hypoth_esis:\n",
    "    y_hat_NAG.append(sy.inverse_transform([i]))\n",
    "    "
   ]
  },
  {
   "cell_type": "code",
   "execution_count": 260,
   "metadata": {},
   "outputs": [
    {
     "data": {
      "text/plain": [
       "array([ 52.50233044, 118.39884051,  76.09202202,  78.04574274,\n",
       "        55.97561172,  55.25201146, 121.58268169, 135.28284674,\n",
       "        72.95642087, 159.25845846,  84.77522523, 122.86104216,\n",
       "        51.15160994,  53.56361083,  95.62922923,  55.3726115 ,\n",
       "        69.82081971,  78.50402291, 108.17163386,  32.        ])"
      ]
     },
     "execution_count": 260,
     "metadata": {},
     "output_type": "execute_result"
    }
   ],
   "source": [
    "# Check the 1D-dimention y_hat\n",
    "\n",
    "y_hat_NAG[0][0]"
   ]
  },
  {
   "cell_type": "code",
   "execution_count": 261,
   "metadata": {},
   "outputs": [
    {
     "data": {
      "text/plain": [
       "0.9012929535058143"
      ]
     },
     "execution_count": 261,
     "metadata": {},
     "output_type": "execute_result"
    }
   ],
   "source": [
    "\n",
    "r2_score(df.price, y_hat_NAG[0][0]) "
   ]
  },
  {
   "cell_type": "code",
   "execution_count": null,
   "metadata": {},
   "outputs": [],
   "source": []
  },
  {
   "cell_type": "code",
   "execution_count": null,
   "metadata": {},
   "outputs": [],
   "source": []
  }
 ],
 "metadata": {
  "interpreter": {
   "hash": "d421f7e0be82773f79ff071f6681b3a26ad583fa2b319fe248c43945bdde9151"
  },
  "kernelspec": {
   "display_name": "Python 3.8.3 ('base')",
   "language": "python",
   "name": "python3"
  },
  "language_info": {
   "codemirror_mode": {
    "name": "ipython",
    "version": 3
   },
   "file_extension": ".py",
   "mimetype": "text/x-python",
   "name": "python",
   "nbconvert_exporter": "python",
   "pygments_lexer": "ipython3",
   "version": "3.8.3"
  },
  "orig_nbformat": 4
 },
 "nbformat": 4,
 "nbformat_minor": 2
}
