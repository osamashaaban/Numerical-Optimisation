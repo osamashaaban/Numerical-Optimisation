{
 "cells": [
  {
   "cell_type": "markdown",
   "metadata": {},
   "source": [
    "# Implementation of stochastic and batch grandient descent in python\n",
    "We will use very simple home prices data set to implement batch and stochastic gradient descent in python. Batch gradient descent uses all training samples in forward pass to calculate cumulitive error and than we adjust weights using derivaties. In stochastic GD, we randomly pick one training sample, perform forward pass, compute the error and immidiately adjust weights. So the key difference here is that to adjust weights batch GD will use all training samples where as stochastic GD will use one randomly picked training sample"
   ]
  },
  {
   "cell_type": "code",
   "execution_count": 1,
   "metadata": {},
   "outputs": [],
   "source": [
    "import pandas as pd\n",
    "import numpy as np\n",
    "from matplotlib import pyplot as plt\n",
    "%matplotlib inline"
   ]
  },
  {
   "cell_type": "code",
   "execution_count": 2,
   "metadata": {},
   "outputs": [
    {
     "data": {
      "text/html": [
       "<div>\n",
       "<style scoped>\n",
       "    .dataframe tbody tr th:only-of-type {\n",
       "        vertical-align: middle;\n",
       "    }\n",
       "\n",
       "    .dataframe tbody tr th {\n",
       "        vertical-align: top;\n",
       "    }\n",
       "\n",
       "    .dataframe thead th {\n",
       "        text-align: right;\n",
       "    }\n",
       "</style>\n",
       "<table border=\"1\" class=\"dataframe\">\n",
       "  <thead>\n",
       "    <tr style=\"text-align: right;\">\n",
       "      <th></th>\n",
       "      <th>area</th>\n",
       "      <th>bedrooms</th>\n",
       "      <th>price</th>\n",
       "    </tr>\n",
       "  </thead>\n",
       "  <tbody>\n",
       "    <tr>\n",
       "      <th>2</th>\n",
       "      <td>1440</td>\n",
       "      <td>3</td>\n",
       "      <td>62.0</td>\n",
       "    </tr>\n",
       "    <tr>\n",
       "      <th>15</th>\n",
       "      <td>1175</td>\n",
       "      <td>2</td>\n",
       "      <td>42.0</td>\n",
       "    </tr>\n",
       "    <tr>\n",
       "      <th>1</th>\n",
       "      <td>2600</td>\n",
       "      <td>4</td>\n",
       "      <td>120.0</td>\n",
       "    </tr>\n",
       "    <tr>\n",
       "      <th>6</th>\n",
       "      <td>2732</td>\n",
       "      <td>4</td>\n",
       "      <td>135.0</td>\n",
       "    </tr>\n",
       "    <tr>\n",
       "      <th>7</th>\n",
       "      <td>3300</td>\n",
       "      <td>4</td>\n",
       "      <td>155.0</td>\n",
       "    </tr>\n",
       "  </tbody>\n",
       "</table>\n",
       "</div>"
      ],
      "text/plain": [
       "    area  bedrooms  price\n",
       "2   1440         3   62.0\n",
       "15  1175         2   42.0\n",
       "1   2600         4  120.0\n",
       "6   2732         4  135.0\n",
       "7   3300         4  155.0"
      ]
     },
     "execution_count": 2,
     "metadata": {},
     "output_type": "execute_result"
    }
   ],
   "source": [
    "df = pd.read_csv(\"homeprices_banglore.csv\")\n",
    "df.sample(5)"
   ]
  },
  {
   "cell_type": "code",
   "execution_count": 3,
   "metadata": {},
   "outputs": [
    {
     "data": {
      "text/plain": [
       "(20, 1)"
      ]
     },
     "execution_count": 3,
     "metadata": {},
     "output_type": "execute_result"
    }
   ],
   "source": [
    "df[\"price\"].values.reshape(df.shape[0],1).shape\n"
   ]
  },
  {
   "cell_type": "code",
   "execution_count": 4,
   "metadata": {},
   "outputs": [
    {
     "name": "stdout",
     "output_type": "stream",
     "text": [
      "Scaled X = \n",
      " [[0.08827586 0.25      ]\n",
      " [0.62068966 0.75      ]\n",
      " [0.22068966 0.5       ]\n",
      " [0.24862069 0.5       ]\n",
      " [0.13793103 0.25      ]\n",
      " [0.12758621 0.25      ]\n",
      " [0.6662069  0.75      ]\n",
      " [0.86206897 0.75      ]\n",
      " [0.17586207 0.5       ]\n",
      " [1.         1.        ]\n",
      " [0.34482759 0.5       ]\n",
      " [0.68448276 0.75      ]\n",
      " [0.06896552 0.25      ]\n",
      " [0.10344828 0.25      ]\n",
      " [0.5        0.5       ]\n",
      " [0.12931034 0.25      ]\n",
      " [0.13103448 0.5       ]\n",
      " [0.25517241 0.5       ]\n",
      " [0.67931034 0.5       ]\n",
      " [0.         0.        ]]\n",
      "Scaled Y = \n",
      " [[0.05237037]\n",
      " [0.65185185]\n",
      " [0.22222222]\n",
      " [0.31851852]\n",
      " [0.14074074]\n",
      " [0.04444444]\n",
      " [0.76296296]\n",
      " [0.91111111]\n",
      " [0.13333333]\n",
      " [1.        ]\n",
      " [0.37037037]\n",
      " [0.8       ]\n",
      " [0.04444444]\n",
      " [0.05925926]\n",
      " [0.51111111]\n",
      " [0.07407407]\n",
      " [0.11851852]\n",
      " [0.20740741]\n",
      " [0.51851852]\n",
      " [0.        ]]\n"
     ]
    }
   ],
   "source": [
    "from sklearn import preprocessing\n",
    "sx = preprocessing.MinMaxScaler()\n",
    "sy = preprocessing.MinMaxScaler()\n",
    "\n",
    "x_scaled = sx.fit_transform(df.drop(\"price\",axis=1))\n",
    "y_scaled = sy.fit_transform(df[\"price\"].values.reshape(df.shape[0],1))\n",
    "\n",
    "print(\"Scaled X = \\n\",x_scaled)\n",
    "print(\"Scaled Y = \\n\",y_scaled)"
   ]
  },
  {
   "cell_type": "code",
   "execution_count": 5,
   "metadata": {},
   "outputs": [
    {
     "data": {
      "text/plain": [
       "20"
      ]
     },
     "execution_count": 5,
     "metadata": {},
     "output_type": "execute_result"
    }
   ],
   "source": [
    "len(y_scaled)"
   ]
  },
  {
   "cell_type": "markdown",
   "metadata": {},
   "source": [
    "#### We should convert target column (i.e. price) into one dimensional array. It has become 2D due to scaling that we did above but now we should change to 1D\n"
   ]
  },
  {
   "cell_type": "code",
   "execution_count": 6,
   "metadata": {},
   "outputs": [
    {
     "data": {
      "text/plain": [
       "(20,)"
      ]
     },
     "execution_count": 6,
     "metadata": {},
     "output_type": "execute_result"
    }
   ],
   "source": [
    "y_scaled = y_scaled.ravel()\n",
    "y_scaled.shape"
   ]
  },
  {
   "cell_type": "code",
   "execution_count": 7,
   "metadata": {},
   "outputs": [
    {
     "data": {
      "text/plain": [
       "array([[0.08827586, 0.62068966, 0.22068966, 0.24862069, 0.13793103,\n",
       "        0.12758621, 0.6662069 , 0.86206897, 0.17586207, 1.        ,\n",
       "        0.34482759, 0.68448276, 0.06896552, 0.10344828, 0.5       ,\n",
       "        0.12931034, 0.13103448, 0.25517241, 0.67931034, 0.        ],\n",
       "       [0.25      , 0.75      , 0.5       , 0.5       , 0.25      ,\n",
       "        0.25      , 0.75      , 0.75      , 0.5       , 1.        ,\n",
       "        0.5       , 0.75      , 0.25      , 0.25      , 0.5       ,\n",
       "        0.25      , 0.5       , 0.5       , 0.5       , 0.        ]])"
      ]
     },
     "execution_count": 7,
     "metadata": {},
     "output_type": "execute_result"
    }
   ],
   "source": [
    "x_scaled.T"
   ]
  },
  {
   "cell_type": "markdown",
   "metadata": {},
   "source": [
    "## Batch Gradient Decent Functio :"
   ]
  },
  {
   "cell_type": "code",
   "execution_count": 8,
   "metadata": {},
   "outputs": [],
   "source": [
    "def batch_gradient_descent(x, y_true, epochs, learning_rate = 0.01):\n",
    "    num_features = x.shape[1]\n",
    "    thetas = np.zeros(shape = (num_features))\n",
    "    Nobservations = x.shape[0]   # num of rows in X\n",
    "    cost_list = []\n",
    "    epochs_list = []\n",
    "    theta_1 = []\n",
    "    theta_2 = []\n",
    "    hypothesis = []\n",
    "    for i in range(epochs):\n",
    "        \n",
    "        # Calculate Y predected\n",
    "        y_predict = np.dot( thetas , x.T )\n",
    "        # Getting the gradient with current thetas values\n",
    "        thetas_grad = (2/Nobservations)*(x.T.dot(y_predict - y_true))\n",
    "        # Updating thetas values\n",
    "        thetas = thetas - (learning_rate * thetas_grad)\n",
    "        # Calculate the cost value \n",
    "        cost = np.mean(np.square(y_predict - y_true))\n",
    "        \n",
    "        if i%10 == 0 :\n",
    "            cost_list.append(cost)\n",
    "            epochs_list.append(i)\n",
    "            theta_1.append(thetas[0])\n",
    "            theta_2.append(thetas[1])\n",
    "            \n",
    "    hypothesis.append(y_predict)\n",
    "    \n",
    "    return thetas, theta_1, theta_2, cost, cost_list, epochs_list, hypothesis\n",
    "        \n",
    "        \n"
   ]
  },
  {
   "cell_type": "code",
   "execution_count": 9,
   "metadata": {},
   "outputs": [
    {
     "data": {
      "text/plain": [
       "(array([0.50222029, 0.43322008]), 0.010200154864303318)"
      ]
     },
     "execution_count": 9,
     "metadata": {},
     "output_type": "execute_result"
    }
   ],
   "source": [
    "the_ta, the_ta_1, the_ta_2, cost, cost_list, epoch_list, Hypoth_esis= batch_gradient_descent(x_scaled,y_scaled,500)\n",
    "the_ta, cost\n"
   ]
  },
  {
   "cell_type": "code",
   "execution_count": 10,
   "metadata": {},
   "outputs": [
    {
     "data": {
      "text/plain": [
       "[array([0.1526437 , 0.63658901, 0.32744652, 0.34146909, 0.17757271,\n",
       "        0.17237917, 0.65944061, 0.75777171, 0.30494116, 0.93534442,\n",
       "        0.38976905, 0.66861587, 0.14294908, 0.1602609 , 0.46767221,\n",
       "        0.17324476, 0.2824358 , 0.34475833, 0.55769364, 0.        ])]"
      ]
     },
     "execution_count": 10,
     "metadata": {},
     "output_type": "execute_result"
    }
   ],
   "source": [
    "Hypoth_esis"
   ]
  },
  {
   "cell_type": "code",
   "execution_count": 11,
   "metadata": {},
   "outputs": [
    {
     "data": {
      "text/plain": [
       "[<matplotlib.lines.Line2D at 0x26a5b8fcbb0>]"
      ]
     },
     "execution_count": 11,
     "metadata": {},
     "output_type": "execute_result"
    },
    {
     "data": {
      "image/png": "[encoded data removed]",
      "text/plain": [
       "<Figure size 432x288 with 1 Axes>"
      ]
     },
     "metadata": {
      "needs_background": "light"
     },
     "output_type": "display_data"
    }
   ],
   "source": [
    "plt.xlabel(\"epoch\")\n",
    "plt.ylabel(\"cost\")\n",
    "plt.plot(epoch_list,cost_list)"
   ]
  },
  {
   "cell_type": "code",
   "execution_count": 52,
   "metadata": {},
   "outputs": [
    {
     "data": {
      "text/plain": [
       "[<matplotlib.lines.Line2D at 0x20b8c660dc0>]"
      ]
     },
     "execution_count": 52,
     "metadata": {},
     "output_type": "execute_result"
    },
    {
     "data": {
      "image/png": "[encoded data removed]",
      "text/plain": [
       "<Figure size 432x288 with 1 Axes>"
      ]
     },
     "metadata": {
      "needs_background": "light"
     },
     "output_type": "display_data"
    }
   ],
   "source": [
    "\n",
    "plt.xlabel(\"theta 1\")\n",
    "plt.ylabel(\"cost\")\n",
    "plt.plot(the_ta_1,cost_list)"
   ]
  },
  {
   "cell_type": "code",
   "execution_count": 53,
   "metadata": {},
   "outputs": [
    {
     "data": {
      "text/plain": [
       "[<matplotlib.lines.Line2D at 0x20b8c6b4f70>]"
      ]
     },
     "execution_count": 53,
     "metadata": {},
     "output_type": "execute_result"
    },
    {
     "data": {
      "image/png": "[encoded data removed]",
      "text/plain": [
       "<Figure size 432x288 with 1 Axes>"
      ]
     },
     "metadata": {
      "needs_background": "light"
     },
     "output_type": "display_data"
    }
   ],
   "source": [
    "\n",
    "plt.xlabel(\"theta 2\")\n",
    "plt.ylabel(\"cost\")\n",
    "plt.plot(the_ta_2,cost_list)"
   ]
  },
  {
   "cell_type": "code",
   "execution_count": 42,
   "metadata": {},
   "outputs": [],
   "source": [
    "def predict(area, bedroom, theta):\n",
    "    \n",
    "    scaled_x = sx.transform([[area,bedroom]])[0]\n",
    "    scaled_price = theta[0]* scaled_x[0] + theta[1]* scaled_x[1]\n",
    "    \n",
    "    return sy.inverse_transform([[scaled_price]])\n",
    "    "
   ]
  },
  {
   "cell_type": "code",
   "execution_count": 67,
   "metadata": {},
   "outputs": [
    {
     "data": {
      "text/plain": [
       "array([[117.94612934]])"
      ]
     },
     "execution_count": 67,
     "metadata": {},
     "output_type": "execute_result"
    }
   ],
   "source": [
    "predict(2600,4,the_ta)"
   ]
  },
  {
   "cell_type": "markdown",
   "metadata": {},
   "source": [
    "## Getting prediction values using Hypothesis values "
   ]
  },
  {
   "cell_type": "code",
   "execution_count": 103,
   "metadata": {},
   "outputs": [],
   "source": [
    "y_hat = []\n",
    "for i in Hypoth_esis:\n",
    "    y_hat.append(sy.inverse_transform([i]))\n",
    "    "
   ]
  },
  {
   "cell_type": "code",
   "execution_count": 110,
   "metadata": {},
   "outputs": [
    {
     "data": {
      "text/plain": [
       "array([ 52.60689912, 117.9395167 ,  76.20527971,  78.09832658,\n",
       "        55.97231577,  55.2711873 , 121.02448197, 134.29918099,\n",
       "        73.16705634, 158.27149676,  84.61882134, 122.26314227,\n",
       "        51.29812598,  53.63522087,  95.13574838,  55.38804205,\n",
       "        70.12883297,  78.54237461, 107.28864185,  32.        ])"
      ]
     },
     "execution_count": 110,
     "metadata": {},
     "output_type": "execute_result"
    }
   ],
   "source": [
    "# Check the 1D-dimention y_hat\n",
    "\n",
    "y_hat[0][0]"
   ]
  },
  {
   "cell_type": "code",
   "execution_count": 111,
   "metadata": {},
   "outputs": [
    {
     "data": {
      "text/plain": [
       "0.8978217787790322"
      ]
     },
     "execution_count": 111,
     "metadata": {},
     "output_type": "execute_result"
    }
   ],
   "source": [
    "from sklearn.metrics import r2_score\n",
    "\n",
    "r2_score(df.price, y_hat[0][0]) "
   ]
  },
  {
   "cell_type": "markdown",
   "metadata": {},
   "source": [
    "# Stochastic GD"
   ]
  },
  {
   "cell_type": "code",
   "execution_count": 230,
   "metadata": {},
   "outputs": [],
   "source": [
    "import random \n",
    "\n",
    "\n",
    "def sgd_gradient_descent(x, y_true, epochs, learning_rate = 0.03):\n",
    "    num_features = x.shape[1]\n",
    "    thetas = np.zeros(shape = (num_features))\n",
    "    Nobservations = x.shape[0]   # num of rows in X\n",
    "    cost_list = []\n",
    "    epochs_list = []\n",
    "    theta_1 = []\n",
    "    theta_2 = []\n",
    "    hypothesis = []\n",
    "    for i in range(epochs):\n",
    "        \n",
    "        # Getting Random Index\n",
    "        rand_index = random.randint(0,Nobservations-1)\n",
    "        # Calculate Y predected\n",
    "        y_predict = np.dot( thetas , x[rand_index].T )\n",
    "        # Getting the gradient with current thetas values\n",
    "        thetas_grad = (x[rand_index].T.dot(y_predict - y_true[rand_index]))\n",
    "        # Updating thetas values\n",
    "        thetas = thetas - (learning_rate * thetas_grad)\n",
    "        # Calculate the cost value \n",
    "        cost = np.square(y_predict - y_true[rand_index])\n",
    "        \n",
    "        cost_list.append(cost)\n",
    "        epochs_list.append(i)\n",
    "        theta_1.append(thetas[0])\n",
    "        theta_2.append(thetas[1])\n",
    "            \n",
    "    hypothesis.append(y_predict)\n",
    "    \n",
    "    return thetas, theta_1, theta_2, cost, cost_list, epochs_list, hypothesis\n",
    "        \n",
    "        \n"
   ]
  },
  {
   "cell_type": "code",
   "execution_count": 237,
   "metadata": {},
   "outputs": [
    {
     "data": {
      "text/plain": [
       "(array([0.54000452, 0.41410667]), 0.009903689161283712)"
      ]
     },
     "execution_count": 237,
     "metadata": {},
     "output_type": "execute_result"
    }
   ],
   "source": [
    "theta_sgd, thetasgd_1, thetasgd_2, sgd_cost, sgd_cost_list, sgd_epoch_list, sgd_Hypoth_esis= sgd_gradient_descent(x_scaled,y_scaled,450)\n",
    "theta_sgd, sgd_cost"
   ]
  },
  {
   "cell_type": "code",
   "execution_count": 238,
   "metadata": {},
   "outputs": [
    {
     "data": {
      "text/plain": [
       "[<matplotlib.lines.Line2D at 0x20b9049a790>]"
      ]
     },
     "execution_count": 238,
     "metadata": {},
     "output_type": "execute_result"
    },
    {
     "data": {
      "image/png": "[encoded data removed]",
      "text/plain": [
       "<Figure size 432x288 with 1 Axes>"
      ]
     },
     "metadata": {
      "needs_background": "light"
     },
     "output_type": "display_data"
    }
   ],
   "source": [
    "plt.xlabel(\"epoch\")\n",
    "plt.ylabel(\"cost\")\n",
    "plt.plot(sgd_epoch_list,sgd_cost_list)\n",
    "\n"
   ]
  },
  {
   "cell_type": "code",
   "execution_count": 239,
   "metadata": {},
   "outputs": [
    {
     "data": {
      "text/plain": [
       "[<matplotlib.lines.Line2D at 0x20b8ed43100>]"
      ]
     },
     "execution_count": 239,
     "metadata": {},
     "output_type": "execute_result"
    },
    {
     "data": {
      "image/png": "[encoded data removed]",
      "text/plain": [
       "<Figure size 432x288 with 1 Axes>"
      ]
     },
     "metadata": {
      "needs_background": "light"
     },
     "output_type": "display_data"
    }
   ],
   "source": [
    "\n",
    "plt.xlabel(\"theta 1\")\n",
    "plt.ylabel(\"cost\")\n",
    "plt.plot(thetasgd_1,sgd_cost_list)\n"
   ]
  },
  {
   "cell_type": "code",
   "execution_count": 240,
   "metadata": {},
   "outputs": [
    {
     "data": {
      "text/plain": [
       "[<matplotlib.lines.Line2D at 0x20b9016ab80>]"
      ]
     },
     "execution_count": 240,
     "metadata": {},
     "output_type": "execute_result"
    },
    {
     "data": {
      "image/png": "[encoded data removed]",
      "text/plain": [
       "<Figure size 432x288 with 1 Axes>"
      ]
     },
     "metadata": {
      "needs_background": "light"
     },
     "output_type": "display_data"
    }
   ],
   "source": [
    "plt.xlabel(\"theta 2\")\n",
    "plt.ylabel(\"cost\")\n",
    "plt.plot(thetasgd_2,sgd_cost_list)"
   ]
  },
  {
   "cell_type": "code",
   "execution_count": 241,
   "metadata": {},
   "outputs": [],
   "source": [
    "def predict(area, bedroom, theta):\n",
    "    \n",
    "    scaled_x = sx.transform([[area,bedroom]])[0]\n",
    "    scaled_price = theta[0]* scaled_x[0] + theta[1]* scaled_x[1]\n",
    "    \n",
    "    return sy.inverse_transform([[scaled_price]])\n",
    "    "
   ]
  },
  {
   "cell_type": "code",
   "execution_count": 242,
   "metadata": {},
   "outputs": [
    {
     "data": {
      "text/plain": [
       "array([[119.176955]])"
      ]
     },
     "execution_count": 242,
     "metadata": {},
     "output_type": "execute_result"
    }
   ],
   "source": [
    "predict(2600,4,theta_sgd)"
   ]
  },
  {
   "cell_type": "markdown",
   "metadata": {},
   "source": [
    "## Getting prediction values using Hypothesis values "
   ]
  },
  {
   "cell_type": "code",
   "execution_count": 243,
   "metadata": {},
   "outputs": [
    {
     "data": {
      "text/plain": [
       "array([ 52.60689912, 117.9395167 ,  76.20527971,  78.09832658,\n",
       "        55.97231577,  55.2711873 , 121.02448197, 134.29918099,\n",
       "        73.16705634, 158.27149676,  84.61882134, 122.26314227,\n",
       "        51.29812598,  53.63522087,  95.13574838,  55.38804205,\n",
       "        70.12883297,  78.54237461, 107.28864185,  32.        ])"
      ]
     },
     "execution_count": 243,
     "metadata": {},
     "output_type": "execute_result"
    }
   ],
   "source": [
    "y_hat_sgd = []\n",
    "for i in Hypoth_esis:\n",
    "    y_hat_sgd.append(sy.inverse_transform([i]))\n",
    "\n",
    "# Check the 1D-dimention y_hat\n",
    "\n",
    "y_hat_sgd[0][0]"
   ]
  },
  {
   "cell_type": "code",
   "execution_count": 244,
   "metadata": {},
   "outputs": [
    {
     "data": {
      "text/plain": [
       "0.8978217787790322"
      ]
     },
     "execution_count": 244,
     "metadata": {},
     "output_type": "execute_result"
    }
   ],
   "source": [
    "\n",
    "r2_score(df.price, y_hat_sgd[0][0]) "
   ]
  },
  {
   "cell_type": "markdown",
   "metadata": {},
   "source": [
    "# Mini Batch GD"
   ]
  },
  {
   "cell_type": "code",
   "execution_count": 565,
   "metadata": {},
   "outputs": [],
   "source": [
    "\n",
    "def minibatch_gradient_descent(x, y_true, epochs, batch_size=2, learning_rate = 0.01):\n",
    "    num_features = x.shape[1]\n",
    "    thetas = np.zeros(shape = (num_features))\n",
    "    Nobservations = x.shape[0]   # num of rows in X\n",
    "    cost_list = []\n",
    "    epochs_list = []\n",
    "    theta_1 = []\n",
    "    theta_2 = []\n",
    "    hypothesis = []\n",
    "    N_batchs = int(Nobservations / batch_size)\n",
    "    for i in range(epochs):\n",
    "        \n",
    "        # Getting Random Indexs\n",
    "        random_indices = np.random.permutation(Nobservations)\n",
    "        x_tmp = x[random_indices]\n",
    "        y_tmp = y_true[random_indices]\n",
    "        \n",
    "        for j in range(0,Nobservations,batch_size):\n",
    "            \n",
    "            x_batch = x[j : j+batch_size]\n",
    "            y_batch = y_true[j : j+batch_size]\n",
    "            \n",
    "            # Calculate Y predected\n",
    "            \n",
    "            y_predict = np.dot(thetas, x_batch.T)\n",
    "        \n",
    "            # Getting the gradient with current thetas values\n",
    "            thetas_grad = (2/len(x_batch))*(x_batch.T.dot(y_predict - y_batch))\n",
    "            \n",
    "            # Updating thetas values\n",
    "            thetas = thetas - (learning_rate * thetas_grad)\n",
    "            \n",
    "            # Calculate the cost value \n",
    "            cost = np.mean(np.square(y_predict - y_batch))\n",
    "        \n",
    "        cost_list.append(cost)\n",
    "        epochs_list.append(i)\n",
    "        theta_1.append(thetas[0])\n",
    "        theta_2.append(thetas[1])\n",
    "    Hypo = np.dot(thetas, x.T)\n",
    "    hypothesis.append(Hypo)\n",
    "    \n",
    "    return thetas, theta_1, theta_2, cost, cost_list, epochs_list, hypothesis\n",
    "        \n",
    "        \n"
   ]
  },
  {
   "cell_type": "code",
   "execution_count": 566,
   "metadata": {},
   "outputs": [
    {
     "data": {
      "text/plain": [
       "(array([0.39789453, 0.40154629]), 0.0011420147145780007)"
      ]
     },
     "execution_count": 566,
     "metadata": {},
     "output_type": "execute_result"
    }
   ],
   "source": [
    "theta_mini, thetamini_1, thetamini_2, mini_cost, mini_cost_list, mini_epoch_list, mini_Hypothesis= minibatch_gradient_descent(x_scaled,y_scaled.reshape(y_scaled.shape[0]),20)\n",
    "theta_mini, mini_cost"
   ]
  },
  {
   "cell_type": "code",
   "execution_count": 567,
   "metadata": {},
   "outputs": [
    {
     "data": {
      "text/plain": [
       "[array([0.13551106, 0.54812874, 0.28858435, 0.29969796, 0.15526858,\n",
       "        0.15115243, 0.5662398 , 0.64417225, 0.2707477 , 0.79944082,\n",
       "        0.33797816, 0.57351166, 0.12782758, 0.14154808, 0.39972041,\n",
       "        0.15183845, 0.25291105, 0.30230485, 0.47106702, 0.        ])]"
      ]
     },
     "execution_count": 567,
     "metadata": {},
     "output_type": "execute_result"
    }
   ],
   "source": [
    "mini_Hypothesis"
   ]
  },
  {
   "cell_type": "code",
   "execution_count": 568,
   "metadata": {},
   "outputs": [
    {
     "data": {
      "text/plain": [
       "[<matplotlib.lines.Line2D at 0x20b961d6e20>]"
      ]
     },
     "execution_count": 568,
     "metadata": {},
     "output_type": "execute_result"
    },
    {
     "data": {
      "image/png": "[encoded data removed]",
      "text/plain": [
       "<Figure size 432x288 with 1 Axes>"
      ]
     },
     "metadata": {
      "needs_background": "light"
     },
     "output_type": "display_data"
    }
   ],
   "source": [
    "plt.xlabel(\"epoch\")\n",
    "plt.ylabel(\"cost\")\n",
    "plt.plot(mini_epoch_list,mini_cost_list)"
   ]
  },
  {
   "cell_type": "code",
   "execution_count": 569,
   "metadata": {},
   "outputs": [
    {
     "data": {
      "text/plain": [
       "[<matplotlib.lines.Line2D at 0x20b971ff5e0>]"
      ]
     },
     "execution_count": 569,
     "metadata": {},
     "output_type": "execute_result"
    },
    {
     "data": {
      "image/png": "[encoded data removed]",
      "text/plain": [
       "<Figure size 432x288 with 1 Axes>"
      ]
     },
     "metadata": {
      "needs_background": "light"
     },
     "output_type": "display_data"
    }
   ],
   "source": [
    "plt.xlabel(\"theta 1\")\n",
    "plt.ylabel(\"cost\")\n",
    "plt.plot(thetamini_1,mini_cost_list)"
   ]
  },
  {
   "cell_type": "code",
   "execution_count": 570,
   "metadata": {},
   "outputs": [
    {
     "data": {
      "text/plain": [
       "[<matplotlib.lines.Line2D at 0x20b97249e50>]"
      ]
     },
     "execution_count": 570,
     "metadata": {},
     "output_type": "execute_result"
    },
    {
     "data": {
      "image/png": "[encoded data removed]",
      "text/plain": [
       "<Figure size 432x288 with 1 Axes>"
      ]
     },
     "metadata": {
      "needs_background": "light"
     },
     "output_type": "display_data"
    }
   ],
   "source": [
    "plt.xlabel(\"theta 2\")\n",
    "plt.ylabel(\"cost\")\n",
    "plt.plot(thetamini_2,mini_cost_list)"
   ]
  },
  {
   "cell_type": "code",
   "execution_count": 571,
   "metadata": {},
   "outputs": [],
   "source": [
    "def predict(area, bedroom, theta):\n",
    "    \n",
    "    scaled_x = sx.transform([[area,bedroom]])[0]\n",
    "    scaled_price = theta[0]* scaled_x[0] + theta[1]* scaled_x[1]\n",
    "    \n",
    "    return sy.inverse_transform([[scaled_price]])[0][0]\n",
    "    "
   ]
  },
  {
   "cell_type": "code",
   "execution_count": 572,
   "metadata": {},
   "outputs": [
    {
     "data": {
      "text/plain": [
       "52.961257923787784"
      ]
     },
     "execution_count": 572,
     "metadata": {},
     "output_type": "execute_result"
    }
   ],
   "source": [
    "predict(1200,2,theta_mini)"
   ]
  },
  {
   "cell_type": "code",
   "execution_count": 573,
   "metadata": {},
   "outputs": [
    {
     "data": {
      "text/plain": [
       "array([ 50.29399252, 105.99737963,  70.95888762,  72.45922441,\n",
       "        52.96125792,  52.40557763, 108.44237292, 118.96325313,\n",
       "        68.55093968, 139.92451105,  77.62705113, 109.42407477,\n",
       "        49.25672264,  51.10899028,  85.96225553,  52.49819101,\n",
       "        66.14299175,  72.81115526,  95.59404727,  32.        ])"
      ]
     },
     "execution_count": 573,
     "metadata": {},
     "output_type": "execute_result"
    }
   ],
   "source": [
    "y_hat_mini = []\n",
    "for i in mini_Hypothesis:\n",
    "    y_hat_mini.append(sy.inverse_transform([i]))\n",
    "\n",
    "# Check the 1D-dimention y_hat\n",
    "\n",
    "y_hat_mini[0][0]"
   ]
  },
  {
   "cell_type": "code",
   "execution_count": 574,
   "metadata": {},
   "outputs": [
    {
     "data": {
      "text/plain": [
       "0.8412586085386526"
      ]
     },
     "execution_count": 574,
     "metadata": {},
     "output_type": "execute_result"
    }
   ],
   "source": [
    "r2_score(df.price,y_hat_mini[0][0])"
   ]
  },
  {
   "cell_type": "code",
   "execution_count": null,
   "metadata": {},
   "outputs": [],
   "source": []
  }
 ],
 "metadata": {
  "interpreter": {
   "hash": "d421f7e0be82773f79ff071f6681b3a26ad583fa2b319fe248c43945bdde9151"
  },
  "kernelspec": {
   "display_name": "Python 3.8.3 ('base')",
   "language": "python",
   "name": "python3"
  },
  "language_info": {
   "codemirror_mode": {
    "name": "ipython",
    "version": 3
   },
   "file_extension": ".py",
   "mimetype": "text/x-python",
   "name": "python",
   "nbconvert_exporter": "python",
   "pygments_lexer": "ipython3",
   "version": "3.8.3"
  },
  "orig_nbformat": 4
 },
 "nbformat": 4,
 "nbformat_minor": 2
}
