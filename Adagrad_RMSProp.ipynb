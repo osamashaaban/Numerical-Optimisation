{
 "cells": [
  {
   "cell_type": "code",
   "execution_count": null,
   "metadata": {},
   "outputs": [],
   "source": []
  },
  {
   "cell_type": "code",
   "execution_count": 58,
   "metadata": {},
   "outputs": [],
   "source": [
    "import pandas as pd\n",
    "import numpy as np\n",
    "from matplotlib import pyplot as plt\n",
    "from sklearn.metrics import r2_score\n",
    "import random\n",
    "%matplotlib inline"
   ]
  },
  {
   "cell_type": "code",
   "execution_count": 3,
   "metadata": {},
   "outputs": [
    {
     "data": {
      "text/html": [
       "<div>\n",
       "<style scoped>\n",
       "    .dataframe tbody tr th:only-of-type {\n",
       "        vertical-align: middle;\n",
       "    }\n",
       "\n",
       "    .dataframe tbody tr th {\n",
       "        vertical-align: top;\n",
       "    }\n",
       "\n",
       "    .dataframe thead th {\n",
       "        text-align: right;\n",
       "    }\n",
       "</style>\n",
       "<table border=\"1\" class=\"dataframe\">\n",
       "  <thead>\n",
       "    <tr style=\"text-align: right;\">\n",
       "      <th></th>\n",
       "      <th>area</th>\n",
       "      <th>bedrooms</th>\n",
       "      <th>price</th>\n",
       "    </tr>\n",
       "  </thead>\n",
       "  <tbody>\n",
       "    <tr>\n",
       "      <th>6</th>\n",
       "      <td>2732</td>\n",
       "      <td>4</td>\n",
       "      <td>135.0</td>\n",
       "    </tr>\n",
       "    <tr>\n",
       "      <th>16</th>\n",
       "      <td>1180</td>\n",
       "      <td>3</td>\n",
       "      <td>48.0</td>\n",
       "    </tr>\n",
       "    <tr>\n",
       "      <th>2</th>\n",
       "      <td>1440</td>\n",
       "      <td>3</td>\n",
       "      <td>62.0</td>\n",
       "    </tr>\n",
       "    <tr>\n",
       "      <th>5</th>\n",
       "      <td>1170</td>\n",
       "      <td>2</td>\n",
       "      <td>38.0</td>\n",
       "    </tr>\n",
       "    <tr>\n",
       "      <th>1</th>\n",
       "      <td>2600</td>\n",
       "      <td>4</td>\n",
       "      <td>120.0</td>\n",
       "    </tr>\n",
       "  </tbody>\n",
       "</table>\n",
       "</div>"
      ],
      "text/plain": [
       "    area  bedrooms  price\n",
       "6   2732         4  135.0\n",
       "16  1180         3   48.0\n",
       "2   1440         3   62.0\n",
       "5   1170         2   38.0\n",
       "1   2600         4  120.0"
      ]
     },
     "execution_count": 3,
     "metadata": {},
     "output_type": "execute_result"
    }
   ],
   "source": [
    "df = pd.read_csv(\"homeprices_banglore.csv\")\n",
    "df.sample(5)"
   ]
  },
  {
   "cell_type": "code",
   "execution_count": 4,
   "metadata": {},
   "outputs": [
    {
     "data": {
      "text/plain": [
       "(20, 1)"
      ]
     },
     "execution_count": 4,
     "metadata": {},
     "output_type": "execute_result"
    }
   ],
   "source": [
    "df[\"price\"].values.reshape(df.shape[0],1).shape\n"
   ]
  },
  {
   "cell_type": "code",
   "execution_count": 5,
   "metadata": {},
   "outputs": [
    {
     "name": "stdout",
     "output_type": "stream",
     "text": [
      "Scaled X = \n",
      " [[0.08827586 0.25      ]\n",
      " [0.62068966 0.75      ]\n",
      " [0.22068966 0.5       ]\n",
      " [0.24862069 0.5       ]\n",
      " [0.13793103 0.25      ]\n",
      " [0.12758621 0.25      ]\n",
      " [0.6662069  0.75      ]\n",
      " [0.86206897 0.75      ]\n",
      " [0.17586207 0.5       ]\n",
      " [1.         1.        ]\n",
      " [0.34482759 0.5       ]\n",
      " [0.68448276 0.75      ]\n",
      " [0.06896552 0.25      ]\n",
      " [0.10344828 0.25      ]\n",
      " [0.5        0.5       ]\n",
      " [0.12931034 0.25      ]\n",
      " [0.13103448 0.5       ]\n",
      " [0.25517241 0.5       ]\n",
      " [0.67931034 0.5       ]\n",
      " [0.         0.        ]]\n",
      "Scaled Y = \n",
      " [[0.05237037]\n",
      " [0.65185185]\n",
      " [0.22222222]\n",
      " [0.31851852]\n",
      " [0.14074074]\n",
      " [0.04444444]\n",
      " [0.76296296]\n",
      " [0.91111111]\n",
      " [0.13333333]\n",
      " [1.        ]\n",
      " [0.37037037]\n",
      " [0.8       ]\n",
      " [0.04444444]\n",
      " [0.05925926]\n",
      " [0.51111111]\n",
      " [0.07407407]\n",
      " [0.11851852]\n",
      " [0.20740741]\n",
      " [0.51851852]\n",
      " [0.        ]]\n"
     ]
    }
   ],
   "source": [
    "from sklearn import preprocessing\n",
    "sx = preprocessing.MinMaxScaler()\n",
    "sy = preprocessing.MinMaxScaler()\n",
    "\n",
    "x_scaled = sx.fit_transform(df.drop(\"price\",axis=1))\n",
    "y_scaled = sy.fit_transform(df[\"price\"].values.reshape(df.shape[0],1))\n",
    "\n",
    "print(\"Scaled X = \\n\",x_scaled)\n",
    "print(\"Scaled Y = \\n\",y_scaled)"
   ]
  },
  {
   "cell_type": "code",
   "execution_count": 6,
   "metadata": {},
   "outputs": [
    {
     "data": {
      "text/plain": [
       "20"
      ]
     },
     "execution_count": 6,
     "metadata": {},
     "output_type": "execute_result"
    }
   ],
   "source": [
    "len(y_scaled)"
   ]
  },
  {
   "cell_type": "markdown",
   "metadata": {},
   "source": [
    "#### We should convert target column (i.e. price) into one dimensional array. It has become 2D due to scaling that we did above but now we should change to 1D\n"
   ]
  },
  {
   "cell_type": "code",
   "execution_count": 7,
   "metadata": {},
   "outputs": [
    {
     "data": {
      "text/plain": [
       "(20,)"
      ]
     },
     "execution_count": 7,
     "metadata": {},
     "output_type": "execute_result"
    }
   ],
   "source": [
    "y_scaled = y_scaled.ravel()\n",
    "y_scaled.shape"
   ]
  },
  {
   "cell_type": "code",
   "execution_count": 8,
   "metadata": {},
   "outputs": [
    {
     "data": {
      "text/plain": [
       "array([[0.08827586, 0.62068966, 0.22068966, 0.24862069, 0.13793103,\n",
       "        0.12758621, 0.6662069 , 0.86206897, 0.17586207, 1.        ,\n",
       "        0.34482759, 0.68448276, 0.06896552, 0.10344828, 0.5       ,\n",
       "        0.12931034, 0.13103448, 0.25517241, 0.67931034, 0.        ],\n",
       "       [0.25      , 0.75      , 0.5       , 0.5       , 0.25      ,\n",
       "        0.25      , 0.75      , 0.75      , 0.5       , 1.        ,\n",
       "        0.5       , 0.75      , 0.25      , 0.25      , 0.5       ,\n",
       "        0.25      , 0.5       , 0.5       , 0.5       , 0.        ]])"
      ]
     },
     "execution_count": 8,
     "metadata": {},
     "output_type": "execute_result"
    }
   ],
   "source": [
    "x_scaled.T"
   ]
  },
  {
   "cell_type": "code",
   "execution_count": 96,
   "metadata": {},
   "outputs": [],
   "source": [
    "def adagrad_gradient_descent(x, y_true, epochs, learning_rate = 0.1):\n",
    "    num_features = x.shape[1]\n",
    "    thetas = np.zeros(shape = (num_features))\n",
    "    vt = np.zeros(shape = (num_features))\n",
    "    Nobservations = x.shape[0]   # num of rows in X\n",
    "    cost_list = []\n",
    "    epochs_list = []\n",
    "    theta_1 = []\n",
    "    theta_2 = []\n",
    "    hypothesis = []\n",
    "    for i in range(epochs):\n",
    "        \n",
    "        if i > 2 :\n",
    "            if abs(cost_list[-2] - cost_list[-1]) <= 0.001 :\n",
    "                break\n",
    "        \n",
    "        # Calculate Y predected\n",
    "        y_predict = np.dot( thetas , x.T )\n",
    "        # Getting the gradient with current thetas values\n",
    "        thetas_grad = (2/Nobservations)*(x.T.dot(y_predict - y_true))\n",
    "        # Calculate Vt \n",
    "        vt = vt + np.square(thetas_grad)\n",
    "        # Updating thetas values\n",
    "        thetas = thetas - ( (learning_rate / (np.sqrt(vt) + 1e-8)) * thetas_grad)\n",
    "        # Calculate the cost value \n",
    "        cost = np.mean(np.square(y_predict - y_true))\n",
    "        \n",
    "        cost_list.append(cost)\n",
    "        epochs_list.append(i)\n",
    "        theta_1.append(thetas[0])\n",
    "        theta_2.append(thetas[1])\n",
    "            \n",
    "    hypothesis.append(y_predict)\n",
    "    \n",
    "    return thetas, theta_1, theta_2, cost, cost_list, epochs_list, hypothesis\n",
    "        \n",
    "        \n"
   ]
  },
  {
   "cell_type": "code",
   "execution_count": 97,
   "metadata": {},
   "outputs": [
    {
     "data": {
      "text/plain": [
       "(array([0.43713284, 0.40862327]), 0.013585049606614902)"
      ]
     },
     "execution_count": 97,
     "metadata": {},
     "output_type": "execute_result"
    }
   ],
   "source": [
    "ADG_the_ta, ADG_the_ta_1, ADG_the_ta_2, ADG_cost, ADG_cost_list, ADG_epoch_list, ADG_Hypoth_esis= adagrad_gradient_descent(x_scaled,y_scaled,600)\n",
    "ADG_the_ta, ADG_cost\n"
   ]
  },
  {
   "cell_type": "code",
   "execution_count": 98,
   "metadata": {},
   "outputs": [
    {
     "data": {
      "text/plain": [
       "[array([0.13879304, 0.56917774, 0.29653784, 0.30853076, 0.16011378,\n",
       "        0.15567195, 0.58872175, 0.67282023, 0.27728995, 0.832934  ,\n",
       "        0.34983969, 0.59656897, 0.13050164, 0.14530771, 0.416467  ,\n",
       "        0.15641226, 0.25804206, 0.31134391, 0.49345856, 0.        ])]"
      ]
     },
     "execution_count": 98,
     "metadata": {},
     "output_type": "execute_result"
    }
   ],
   "source": [
    "ADG_Hypoth_esis"
   ]
  },
  {
   "cell_type": "code",
   "execution_count": 99,
   "metadata": {},
   "outputs": [
    {
     "data": {
      "text/plain": [
       "[<matplotlib.lines.Line2D at 0x1fbee585700>]"
      ]
     },
     "execution_count": 99,
     "metadata": {},
     "output_type": "execute_result"
    },
    {
     "data": {
      "image/png": "[encoded data removed]",
      "text/plain": [
       "<Figure size 432x288 with 1 Axes>"
      ]
     },
     "metadata": {
      "needs_background": "light"
     },
     "output_type": "display_data"
    }
   ],
   "source": [
    "\n",
    "plt.xlabel(\"epoch\")\n",
    "plt.ylabel(\"cost\")\n",
    "plt.plot(ADG_epoch_list,ADG_cost_list)\n"
   ]
  },
  {
   "cell_type": "code",
   "execution_count": 100,
   "metadata": {},
   "outputs": [
    {
     "data": {
      "text/plain": [
       "[<matplotlib.lines.Line2D at 0x1fbee85bbe0>]"
      ]
     },
     "execution_count": 100,
     "metadata": {},
     "output_type": "execute_result"
    },
    {
     "data": {
      "image/png": "[encoded data removed]",
      "text/plain": [
       "<Figure size 432x288 with 1 Axes>"
      ]
     },
     "metadata": {
      "needs_background": "light"
     },
     "output_type": "display_data"
    }
   ],
   "source": [
    "\n",
    "plt.xlabel(\"theta 1\")\n",
    "plt.ylabel(\"cost\")\n",
    "plt.plot(ADG_the_ta_1,ADG_cost_list)\n"
   ]
  },
  {
   "cell_type": "code",
   "execution_count": 101,
   "metadata": {},
   "outputs": [
    {
     "data": {
      "text/plain": [
       "[<matplotlib.lines.Line2D at 0x1fbefa41820>]"
      ]
     },
     "execution_count": 101,
     "metadata": {},
     "output_type": "execute_result"
    },
    {
     "data": {
      "image/png": "[encoded data removed]",
      "text/plain": [
       "<Figure size 432x288 with 1 Axes>"
      ]
     },
     "metadata": {
      "needs_background": "light"
     },
     "output_type": "display_data"
    }
   ],
   "source": [
    "\n",
    "plt.xlabel(\"theta 2\")\n",
    "plt.ylabel(\"cost\")\n",
    "plt.plot(ADG_the_ta_2,ADG_cost_list)"
   ]
  },
  {
   "cell_type": "code",
   "execution_count": 102,
   "metadata": {},
   "outputs": [],
   "source": [
    "def predict(area, bedroom, theta):\n",
    "    \n",
    "    scaled_x = sx.transform([[area,bedroom]])[0]\n",
    "    scaled_price = theta[0]* scaled_x[0] + theta[1]* scaled_x[1]\n",
    "    \n",
    "    return sy.inverse_transform([[scaled_price]])\n",
    "    "
   ]
  },
  {
   "cell_type": "code",
   "execution_count": 103,
   "metadata": {},
   "outputs": [
    {
     "data": {
      "text/plain": [
       "array([[32.]])"
      ]
     },
     "execution_count": 103,
     "metadata": {},
     "output_type": "execute_result"
    }
   ],
   "source": [
    "predict(800,1,ADG_the_ta)"
   ]
  },
  {
   "cell_type": "markdown",
   "metadata": {},
   "source": [
    "## Getting prediction values using Hypothesis values "
   ]
  },
  {
   "cell_type": "code",
   "execution_count": 104,
   "metadata": {},
   "outputs": [],
   "source": [
    "y_hat_ADG = []\n",
    "for i in ADG_Hypoth_esis:\n",
    "    y_hat_ADG.append(sy.inverse_transform([i]))\n",
    "    "
   ]
  },
  {
   "cell_type": "code",
   "execution_count": 105,
   "metadata": {},
   "outputs": [
    {
     "data": {
      "text/plain": [
       "array([ 50.73705982, 108.83899527,  72.03260842,  73.6516521 ,\n",
       "        53.6153597 ,  53.01571389, 111.47743682, 122.8307308 ,\n",
       "        69.43414325, 144.4460905 ,  79.22835812, 112.53681109,\n",
       "        49.61772098,  51.61654034,  88.22304525,  53.11565486,\n",
       "        66.83567808,  74.03142778,  98.61690593,  32.        ])"
      ]
     },
     "execution_count": 105,
     "metadata": {},
     "output_type": "execute_result"
    }
   ],
   "source": [
    "# Check the 1D-dimention y_hat\n",
    "\n",
    "y_hat_ADG[0][0]"
   ]
  },
  {
   "cell_type": "code",
   "execution_count": 106,
   "metadata": {},
   "outputs": [
    {
     "data": {
      "text/plain": [
       "0.8639142030225119"
      ]
     },
     "execution_count": 106,
     "metadata": {},
     "output_type": "execute_result"
    }
   ],
   "source": [
    "\n",
    "r2_score(df.price, y_hat_ADG[0][0]) "
   ]
  },
  {
   "cell_type": "markdown",
   "metadata": {},
   "source": [
    "# RMSProp"
   ]
  },
  {
   "cell_type": "code",
   "execution_count": 203,
   "metadata": {},
   "outputs": [],
   "source": [
    "def RMSProp_adagrad_gradient_descent(x, y_true, epochs, learning_rate = 0.03 , Bita = 0.4):\n",
    "    num_features = x.shape[1]\n",
    "    thetas = np.zeros(shape = (num_features))\n",
    "    vt = np.zeros(shape = (num_features))\n",
    "    Nobservations = x.shape[0]   # num of rows in X\n",
    "    cost_list = []\n",
    "    epochs_list = []\n",
    "    theta_1 = []\n",
    "    theta_2 = []\n",
    "    hypothesis = []\n",
    "    for i in range(epochs):\n",
    "        \n",
    "        if i > 2 :\n",
    "            if abs(cost_list[-2] - cost_list[-1]) <= 0.0001 :\n",
    "                break\n",
    "        \n",
    "        # Calculate Y predected\n",
    "        y_predict = np.dot( thetas , x.T )\n",
    "        # Getting the gradient with current thetas values\n",
    "        thetas_grad = (2/Nobservations)*(x.T.dot(y_predict - y_true))\n",
    "        # Calculate Vt \n",
    "        vt = (Bita * vt) + ((1 - Bita) * np.square(thetas_grad))\n",
    "        # Updating thetas values\n",
    "        thetas = thetas - ( (learning_rate / (np.sqrt(vt) + 1e-8)) * thetas_grad)\n",
    "        # Calculate the cost value \n",
    "        cost = np.mean(np.square(y_predict - y_true))\n",
    "        \n",
    "        cost_list.append(cost)\n",
    "        epochs_list.append(i)\n",
    "        theta_1.append(thetas[0])\n",
    "        theta_2.append(thetas[1])\n",
    "            \n",
    "    hypothesis.append(y_predict)\n",
    "    \n",
    "    return thetas, theta_1, theta_2, cost, cost_list, epochs_list, hypothesis\n",
    "        \n",
    "        \n"
   ]
  },
  {
   "cell_type": "code",
   "execution_count": 214,
   "metadata": {},
   "outputs": [
    {
     "data": {
      "text/plain": [
       "(array([0.82392831, 0.13921047]), 0.0048072616521416586)"
      ]
     },
     "execution_count": 214,
     "metadata": {},
     "output_type": "execute_result"
    }
   ],
   "source": [
    "RMS_the_ta, RMS_the_ta_1, RMS_the_ta_2, RMS_cost, RMS_cost_list, RMS_epoch_list, RMS_Hypothesis= RMSProp_adagrad_gradient_descent(x_scaled,y_scaled,150)\n",
    "RMS_the_ta, RMS_cost\n"
   ]
  },
  {
   "cell_type": "code",
   "execution_count": 215,
   "metadata": {},
   "outputs": [
    {
     "data": {
      "text/plain": [
       "[<matplotlib.lines.Line2D at 0x1fbf1404d00>]"
      ]
     },
     "execution_count": 215,
     "metadata": {},
     "output_type": "execute_result"
    },
    {
     "data": {
      "image/png": "[encoded data removed]",
      "text/plain": [
       "<Figure size 432x288 with 1 Axes>"
      ]
     },
     "metadata": {
      "needs_background": "light"
     },
     "output_type": "display_data"
    }
   ],
   "source": [
    "plt.xlabel(\"epochs\")\n",
    "plt.ylabel(\"cost\")\n",
    "plt.plot(RMS_epoch_list,RMS_cost_list)"
   ]
  },
  {
   "cell_type": "code",
   "execution_count": 216,
   "metadata": {},
   "outputs": [
    {
     "data": {
      "text/plain": [
       "[<matplotlib.lines.Line2D at 0x1fbf14630a0>]"
      ]
     },
     "execution_count": 216,
     "metadata": {},
     "output_type": "execute_result"
    },
    {
     "data": {
      "image/png": "[encoded data removed]",
      "text/plain": [
       "<Figure size 432x288 with 1 Axes>"
      ]
     },
     "metadata": {
      "needs_background": "light"
     },
     "output_type": "display_data"
    }
   ],
   "source": [
    "plt.xlabel(\"Thets 1\")\n",
    "plt.ylabel(\"cost\")\n",
    "plt.plot(RMS_the_ta_1,RMS_cost_list)"
   ]
  },
  {
   "cell_type": "code",
   "execution_count": 217,
   "metadata": {},
   "outputs": [
    {
     "data": {
      "text/plain": [
       "[<matplotlib.lines.Line2D at 0x1fbf14b38e0>]"
      ]
     },
     "execution_count": 217,
     "metadata": {},
     "output_type": "execute_result"
    },
    {
     "data": {
      "image/png": "[encoded data removed]",
      "text/plain": [
       "<Figure size 432x288 with 1 Axes>"
      ]
     },
     "metadata": {
      "needs_background": "light"
     },
     "output_type": "display_data"
    }
   ],
   "source": [
    "plt.xlabel(\"Thets 2\")\n",
    "plt.ylabel(\"cost\")\n",
    "plt.plot(RMS_the_ta_2,RMS_cost_list)"
   ]
  },
  {
   "cell_type": "code",
   "execution_count": 218,
   "metadata": {},
   "outputs": [
    {
     "data": {
      "text/plain": [
       "[array([0.11805018, 0.65449439, 0.27335232, 0.29692581, 0.15995863,\n",
       "        0.1512277 , 0.69291046, 0.85821599, 0.2355183 , 1.01817462,\n",
       "        0.37812342, 0.7083351 , 0.10175246, 0.13085554, 0.50908731,\n",
       "        0.15268285, 0.19768429, 0.3024554 , 0.66042335, 0.        ])]"
      ]
     },
     "execution_count": 218,
     "metadata": {},
     "output_type": "execute_result"
    }
   ],
   "source": [
    "RMS_Hypothesis"
   ]
  },
  {
   "cell_type": "code",
   "execution_count": 219,
   "metadata": {},
   "outputs": [],
   "source": [
    "def predict(area, bedroom, theta):\n",
    "    \n",
    "    scaled_x = sx.transform([[area,bedroom]])[0]\n",
    "    scaled_price = theta[0]* scaled_x[0] + theta[1]* scaled_x[1]\n",
    "    \n",
    "    return sy.inverse_transform([[scaled_price]])\n",
    "    "
   ]
  },
  {
   "cell_type": "code",
   "execution_count": 220,
   "metadata": {},
   "outputs": [
    {
     "data": {
      "text/plain": [
       "array([[32.]])"
      ]
     },
     "execution_count": 220,
     "metadata": {},
     "output_type": "execute_result"
    }
   ],
   "source": [
    "predict(800,1,RMS_the_ta)"
   ]
  },
  {
   "cell_type": "markdown",
   "metadata": {},
   "source": [
    "## Getting prediction values using Hypothesis values "
   ]
  },
  {
   "cell_type": "code",
   "execution_count": 221,
   "metadata": {},
   "outputs": [],
   "source": [
    "y_hat_RMS = []\n",
    "for i in RMS_Hypothesis:\n",
    "    y_hat_RMS.append(sy.inverse_transform([i]))\n",
    "    "
   ]
  },
  {
   "cell_type": "code",
   "execution_count": 222,
   "metadata": {},
   "outputs": [
    {
     "data": {
      "text/plain": [
       "array([ 47.93677472, 120.3567428 ,  68.90256261,  72.08498501,\n",
       "        53.59441453,  52.41573957, 125.54291263, 147.85915854,\n",
       "        63.79497112, 169.45357307,  83.04666213, 127.62523839,\n",
       "        45.73658147,  49.665498  , 100.72678654,  52.6121854 ,\n",
       "        58.68737963,  72.83147915, 121.15715251,  32.        ])"
      ]
     },
     "execution_count": 222,
     "metadata": {},
     "output_type": "execute_result"
    }
   ],
   "source": [
    "# Check the 1D-dimention y_hat\n",
    "\n",
    "y_hat_RMS[0][0]"
   ]
  },
  {
   "cell_type": "code",
   "execution_count": 223,
   "metadata": {},
   "outputs": [
    {
     "data": {
      "text/plain": [
       "0.9518441189281732"
      ]
     },
     "execution_count": 223,
     "metadata": {},
     "output_type": "execute_result"
    }
   ],
   "source": [
    "\n",
    "r2_score(df.price, y_hat_RMS[0][0]) "
   ]
  }
 ],
 "metadata": {
  "interpreter": {
   "hash": "d421f7e0be82773f79ff071f6681b3a26ad583fa2b319fe248c43945bdde9151"
  },
  "kernelspec": {
   "display_name": "Python 3.8.3 ('base')",
   "language": "python",
   "name": "python3"
  },
  "language_info": {
   "codemirror_mode": {
    "name": "ipython",
    "version": 3
   },
   "file_extension": ".py",
   "mimetype": "text/x-python",
   "name": "python",
   "nbconvert_exporter": "python",
   "pygments_lexer": "ipython3",
   "version": "3.8.3"
  },
  "orig_nbformat": 4
 },
 "nbformat": 4,
 "nbformat_minor": 2
}
